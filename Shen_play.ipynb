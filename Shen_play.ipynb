{
 "cells": [
  {
   "cell_type": "code",
   "execution_count": 9,
   "id": "418960d3",
   "metadata": {},
   "outputs": [],
   "source": [
    "import numpy as np\n",
    "import xarray as xr\n",
    "\n",
    "import os\n",
    "from dolfin import *\n",
    "\n",
    "\n",
    "from mmdisk.fea.fenics.utils import get_loadfunc, get_time_list_alt\n",
    "from mmdisk.fea.common import create_time_points\n",
    "from mmdisk.fea.fenics.mesh import mesh_and_properties, mesh2d_and_properties\n",
    "from mmdisk.fea.fenics.incremental import incremental_cyclic_fea\n",
    "from mmdisk.fea.common import default_cycle\n",
    "\n",
    "import matplotlib.pyplot as plt\n",
    "\n",
    "from mmdisk.fea.fenics.utils import (\n",
    "    AbPETScContext,\n",
    "    as_3D_tensor,\n",
    "    get_boundary,\n",
    "    ppos,\n",
    ")"
   ]
  },
  {
   "cell_type": "code",
   "execution_count": 2,
   "id": "d6973d17",
   "metadata": {},
   "outputs": [],
   "source": [
    "disks2d = xr.open_zarr(\"one_disk_with_full_fgm_comp_prop_1000_Cre_calib_rev_fix_chunk_1_for_fea.zarr\")\n",
    "mesh, props = mesh_and_properties(disks2d.isel(disks=0).load())\n",
    "# mesh, props = mesh_and_properties(picked_disk.load())\n",
    "omega = 1000\n",
    "T_load = 200\n",
    "t_heatdwell = 20.0\n",
    "t_cooldwell = 1500.  # cooling dwell time\n",
    "skip_cold = False  # skip the cold dwell for the thermal problem\n",
    "\n",
    "l_cycle = default_cycle.copy()\n",
    "l_cycle[1] = t_heatdwell\n",
    "l_cycle[3] = t_cooldwell\n",
    "\n",
    "time_division =  [0.25, 0.25, 0.25, 0.25]\n",
    "\n",
    "time_steps = l_cycle.copy() * time_division\n",
    "\n",
    "load = get_loadfunc(T_load, l_cycle)\n",
    "\n",
    "n_cycles = 10\n",
    "\n",
    "# t_fine = l_cycle[:3].sum() + l_cycle[2]\n",
    "period, _, t_output = create_time_points(n_cycles, l_cycle, output_division=2.0)\n",
    "t_list = get_time_list_alt(l_cycle, time_steps, n_cycles, skip_cold=skip_cold)"
   ]
  },
  {
   "cell_type": "code",
   "execution_count": 3,
   "id": "68ac8d6d",
   "metadata": {},
   "outputs": [],
   "source": [
    "mesh = mesh\n",
    "properties = props\n",
    "load = T_load\n",
    "omega = omega\n",
    "t_list = t_list\n",
    "period = period\n",
    "t_output = t_output"
   ]
  },
  {
   "cell_type": "code",
   "execution_count": 4,
   "id": "e131605c",
   "metadata": {},
   "outputs": [],
   "source": [
    "rho, cp, kappa, E, sig0, nu, alpha_V = properties"
   ]
  },
  {
   "cell_type": "markdown",
   "id": "cfb5d053",
   "metadata": {},
   "source": [
    "rho"
   ]
  },
  {
   "cell_type": "code",
   "execution_count": 5,
   "id": "9b50c399",
   "metadata": {},
   "outputs": [],
   "source": [
    "# material properties\n",
    "rho, cp, kappa, E, sig0, nu, alpha_V = properties\n",
    "lmbda = E * nu / (1 + nu) / (1 - 2 * nu)\n",
    "mu = E / 2.0 / (1 + nu)\n",
    "Et = E / 1e5  # tangent modulus - any better method for perfect plasticity?\n",
    "H = E * Et / (E - Et)  # hardening modulus\n"
   ]
  },
  {
   "cell_type": "code",
   "execution_count": 6,
   "id": "44707821",
   "metadata": {},
   "outputs": [],
   "source": [
    "# DEFINE THERMAL PROBLEM\n",
    "V = FunctionSpace(mesh, \"P\", 1)  # Temperature space\n",
    "v = TestFunction(V)\n",
    "x = SpatialCoordinate(mesh)  # Coords\n",
    "T_initial = Constant(0.0)\n",
    "T_pre = interpolate(T_initial, V)  # Temp. at last time step\n",
    "T_old = interpolate(T_initial, V)  # ** Temp. at last mechanical step **\n",
    "T_crt = TrialFunction(V)\n",
    "dt = Constant(1.0)\n",
    "F_thermal = (rho * cp * (T_crt - T_pre) / dt) * v * x[0] * dx + kappa * dot(\n",
    "    grad(T_crt), grad(v)\n",
    ") * x[0] * dx\n",
    "a_thermal, L_thermal = lhs(F_thermal), rhs(F_thermal)\n",
    "\n",
    "# DEFINE MECH PROBLEM\n",
    "U = VectorFunctionSpace(mesh, \"CG\", 1)\n",
    "We = VectorElement(\n",
    "    \"Quadrature\", mesh.ufl_cell(), degree=1, dim=4, quad_scheme=\"default\"\n",
    ")\n",
    "W = FunctionSpace(mesh, We)\n",
    "W0e = FiniteElement(\"Quadrature\", mesh.ufl_cell(), degree=1, quad_scheme=\"default\")\n",
    "W0 = FunctionSpace(mesh, W0e)\n",
    "\n",
    "metadata = {\"quadrature_degree\": 1, \"quadrature_scheme\": \"default\"}\n",
    "dxm = dx(metadata=metadata)\n",
    "\n",
    "sig = Function(W)\n",
    "sig_old = Function(W)\n",
    "n_elas = Function(W)\n",
    "beta = Function(W0)\n",
    "p = Function(W0, name=\"Cumulative plastic strain\")\n",
    "strain = Function(W, name=\"Strain vector\")\n",
    "u = Function(U, name=\"Total displacement\")\n",
    "du = Function(U, name=\"Iteration correction\")\n",
    "Du = Function(U, name=\"Current increment\")\n",
    "v_ = TrialFunction(U)\n",
    "u_ = TestFunction(U)"
   ]
  },
  {
   "cell_type": "code",
   "execution_count": 7,
   "id": "18576593",
   "metadata": {},
   "outputs": [],
   "source": [
    "def eps(v):\n",
    "    return sym(\n",
    "        as_tensor(\n",
    "            [\n",
    "                [v[0].dx(0), 0, v[0].dx(1)],\n",
    "                [0, v[0] / x[0], 0],\n",
    "                [v[1].dx(0), 0, v[1].dx(1)],\n",
    "            ]\n",
    "        )\n",
    "    )\n",
    "\n",
    "def eps_to_vector(v):\n",
    "    \"\"\"Convert strain tensor to vector format [eps_rr, eps_theta, eps_zz, eps_rz]\"\"\"\n",
    "    eps_tensor = eps(v)\n",
    "    return as_vector(\n",
    "        [eps_tensor[0, 0], eps_tensor[1, 1], eps_tensor[2, 2], eps_tensor[0, 2]]\n",
    "    )\n",
    "\n",
    "def sigma(v, dT):\n",
    "    return (lmbda * tr(eps(v)) - alpha_V * (3 * lmbda + 2 * mu) * dT) * Identity(\n",
    "        3\n",
    "    ) + 2.0 * mu * eps(v)\n",
    "\n",
    "def proj_sig(v, dT, old_sig, old_p):\n",
    "    sig_n = as_3D_tensor(old_sig)\n",
    "    sig_elas = sig_n + sigma(v, dT)\n",
    "    s = dev(sig_elas)\n",
    "    sig_eq = sqrt(3 / 2.0 * inner(s, s))\n",
    "    f_elas = sig_eq - sig0 - H * old_p\n",
    "    dp = ppos(f_elas) / (3 * mu + H)\n",
    "    n_elas = s / sig_eq * ppos(f_elas) / f_elas\n",
    "    beta = 3 * mu * dp / sig_eq\n",
    "    new_sig = sig_elas - beta * s\n",
    "    return (\n",
    "        as_vector([new_sig[0, 0], new_sig[1, 1], new_sig[2, 2], new_sig[0, 2]]),\n",
    "        as_vector([n_elas[0, 0], n_elas[1, 1], n_elas[2, 2], n_elas[0, 2]]),\n",
    "        beta,\n",
    "        dp,\n",
    "    )\n",
    "\n",
    "def update_sig_thermal(dT, old_sig):\n",
    "    sig_n = as_3D_tensor(old_sig)\n",
    "    new_sig = sig_n - alpha_V * (3 * lmbda + 2 * mu) * dT * Identity(3)\n",
    "    return as_vector([new_sig[0, 0], new_sig[1, 1], new_sig[2, 2], new_sig[0, 2]])\n",
    "\n",
    "def sigma_tang(v):\n",
    "    N_elas = as_3D_tensor(n_elas)\n",
    "    e = eps(v)\n",
    "    return (\n",
    "        lmbda * tr(e) * Identity(3)\n",
    "        + 2.0 * mu * e\n",
    "        - 3 * mu * (3 * mu / (3 * mu + H) - beta) * inner(N_elas, e) * N_elas\n",
    "        - 2 * mu * beta * dev(e)\n",
    "    )\n",
    "\n",
    "def local_project(v, V, u=None):\n",
    "    dv = TrialFunction(V)\n",
    "    v_ = TestFunction(V)\n",
    "    a_proj = inner(dv, v_) * dxm\n",
    "    b_proj = inner(v, v_) * dxm\n",
    "    solver = LocalSolver(a_proj, b_proj)\n",
    "    solver.factorize()\n",
    "    if u is None:\n",
    "        u = Function(V)\n",
    "        solver.solve_local_rhs(u)\n",
    "        return u\n",
    "    else:\n",
    "        solver.solve_local_rhs(u)\n",
    "        return"
   ]
  },
  {
   "cell_type": "code",
   "execution_count": 10,
   "id": "6bf7ea05",
   "metadata": {},
   "outputs": [],
   "source": [
    "omega_ = Constant(omega)\n",
    "F_int = rho * omega_**2 * x[0] * u_[0]\n",
    "\n",
    "a_Newton = inner(eps(v_), sigma_tang(u_)) * x[0] * dxm\n",
    "res = -inner(eps(u_), as_3D_tensor(sig)) * x[0] * dxm + F_int * x[0] * dxm\n"
   ]
  },
  {
   "cell_type": "code",
   "execution_count": 11,
   "id": "e52e9a4f",
   "metadata": {},
   "outputs": [
    {
     "data": {
      "text/plain": [
       "Argument(FunctionSpace(Mesh(VectorElement(FiniteElement('Lagrange', triangle, 1), dim=2), 0), VectorElement(FiniteElement('Lagrange', triangle, 1), dim=2)), 0, None)"
      ]
     },
     "execution_count": 11,
     "metadata": {},
     "output_type": "execute_result"
    }
   ],
   "source": [
    "u_"
   ]
  },
  {
   "cell_type": "code",
   "execution_count": null,
   "id": "063489f6",
   "metadata": {},
   "outputs": [],
   "source": []
  }
 ],
 "metadata": {
  "kernelspec": {
   "display_name": "fenics_legacy",
   "language": "python",
   "name": "python3"
  },
  "language_info": {
   "codemirror_mode": {
    "name": "ipython",
    "version": 3
   },
   "file_extension": ".py",
   "mimetype": "text/x-python",
   "name": "python",
   "nbconvert_exporter": "python",
   "pygments_lexer": "ipython3",
   "version": "3.13.7"
  }
 },
 "nbformat": 4,
 "nbformat_minor": 5
}
