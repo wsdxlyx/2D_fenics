{
 "cells": [
  {
   "cell_type": "code",
   "execution_count": null,
   "id": "418960d3",
   "metadata": {},
   "outputs": [
    {
     "ename": "ModuleNotFoundError",
     "evalue": "No module named 'mmdisk'",
     "output_type": "error",
     "traceback": [
      "\u001b[31m---------------------------------------------------------------------------\u001b[39m",
      "\u001b[31mModuleNotFoundError\u001b[39m                       Traceback (most recent call last)",
      "\u001b[36mCell\u001b[39m\u001b[36m \u001b[39m\u001b[32mIn[2]\u001b[39m\u001b[32m, line 9\u001b[39m\n\u001b[32m      5\u001b[39m \u001b[38;5;28;01mfrom\u001b[39;00m\u001b[38;5;250m \u001b[39m\u001b[34;01mdolfin\u001b[39;00m\u001b[38;5;250m \u001b[39m\u001b[38;5;28;01mimport\u001b[39;00m *\n\u001b[32m      8\u001b[39m \u001b[38;5;28;01mfrom\u001b[39;00m\u001b[38;5;250m \u001b[39m\u001b[34;01mutils\u001b[39;00m\u001b[38;5;250m \u001b[39m\u001b[38;5;28;01mimport\u001b[39;00m get_loadfunc, get_time_list_alt\n\u001b[32m----> \u001b[39m\u001b[32m9\u001b[39m \u001b[38;5;28;01mfrom\u001b[39;00m\u001b[38;5;250m \u001b[39m\u001b[34;01mmesh\u001b[39;00m\u001b[38;5;250m \u001b[39m\u001b[38;5;28;01mimport\u001b[39;00m mesh_and_properties, mesh2d_and_properties\n\u001b[32m     10\u001b[39m \u001b[38;5;28;01mfrom\u001b[39;00m\u001b[38;5;250m \u001b[39m\u001b[34;01mincremental\u001b[39;00m\u001b[38;5;250m \u001b[39m\u001b[38;5;28;01mimport\u001b[39;00m incremental_cyclic_fea\n\u001b[32m     12\u001b[39m \u001b[38;5;28;01mimport\u001b[39;00m\u001b[38;5;250m \u001b[39m\u001b[34;01mmatplotlib\u001b[39;00m\u001b[34;01m.\u001b[39;00m\u001b[34;01mpyplot\u001b[39;00m\u001b[38;5;250m \u001b[39m\u001b[38;5;28;01mas\u001b[39;00m\u001b[38;5;250m \u001b[39m\u001b[34;01mplt\u001b[39;00m\n",
      "\u001b[36mFile \u001b[39m\u001b[32m~/Documents/Github/2D_fenics/mmdisk/fea/fenics/mesh.py:16\u001b[39m\n\u001b[32m      6\u001b[39m \u001b[38;5;28;01mfrom\u001b[39;00m\u001b[38;5;250m \u001b[39m\u001b[34;01mdolfin\u001b[39;00m\u001b[38;5;250m \u001b[39m\u001b[38;5;28;01mimport\u001b[39;00m (\n\u001b[32m      7\u001b[39m     Function,\n\u001b[32m      8\u001b[39m     FunctionSpace,\n\u001b[32m   (...)\u001b[39m\u001b[32m     13\u001b[39m     XDMFFile,\n\u001b[32m     14\u001b[39m )\n\u001b[32m     15\u001b[39m \u001b[38;5;28;01mfrom\u001b[39;00m\u001b[38;5;250m \u001b[39m\u001b[34;01mmpi4py\u001b[39;00m\u001b[38;5;250m \u001b[39m\u001b[38;5;28;01mimport\u001b[39;00m MPI\n\u001b[32m---> \u001b[39m\u001b[32m16\u001b[39m \u001b[38;5;28;01mfrom\u001b[39;00m\u001b[38;5;250m \u001b[39m\u001b[34;01mmmdisk\u001b[39;00m\u001b[34;01m.\u001b[39;00m\u001b[34;01mutils\u001b[39;00m\u001b[38;5;250m \u001b[39m\u001b[38;5;28;01mimport\u001b[39;00m dimensional_geometry\n\u001b[32m     18\u001b[39m _properties_of_interest = [\n\u001b[32m     19\u001b[39m     \u001b[33m\"\u001b[39m\u001b[33mYoung\u001b[39m\u001b[33m'\u001b[39m\u001b[33ms Modulus\u001b[39m\u001b[33m\"\u001b[39m,\n\u001b[32m     20\u001b[39m     \u001b[33m\"\u001b[39m\u001b[33mPoisson Ratio\u001b[39m\u001b[33m\"\u001b[39m,\n\u001b[32m   (...)\u001b[39m\u001b[32m     25\u001b[39m     \u001b[33m\"\u001b[39m\u001b[33mSpecific Heat Capacity\u001b[39m\u001b[33m\"\u001b[39m,\n\u001b[32m     26\u001b[39m ]\n\u001b[32m     29\u001b[39m \u001b[38;5;28;01mdef\u001b[39;00m\u001b[38;5;250m \u001b[39m\u001b[34mload_universal_mesh\u001b[39m() -> Mesh:\n",
      "\u001b[31mModuleNotFoundError\u001b[39m: No module named 'mmdisk'"
     ]
    }
   ],
   "source": [
    "import numpy as np\n",
    "import xarray as xr\n",
    "\n",
    "import os\n",
    "from dolfin import *\n",
    "\n",
    "\n",
    "from mmdisk.fea.fenics.utils import get_loadfunc, get_time_list_alt\n",
    "from mmdisk.fea.common import create_time_points\n",
    "from mmdisk.fea.fenics.mesh import mesh_and_properties, mesh2d_and_properties\n",
    "from mmdisk.fea.fenics.incremental import incremental_cyclic_fea\n",
    "from mmdisk.fea.common import default_cycle\n",
    "\n",
    "import matplotlib.pyplot as plt"
   ]
  },
  {
   "cell_type": "code",
   "execution_count": null,
   "id": "d6973d17",
   "metadata": {},
   "outputs": [],
   "source": [
    "disks2d = xr.open_zarr(\"one_disk_with_full_fgm_comp_prop_1000_Cre_calib_rev_fix_chunk_1_for_fea.zarr\")\n",
    "mesh, props = mesh_and_properties(disks2d.isel(disks=0).load())\n",
    "# mesh, props = mesh_and_properties(picked_disk.load())\n",
    "omega = 1000\n",
    "T_load = 200\n",
    "t_heatdwell = 20.0\n",
    "t_cooldwell = 1500.  # cooling dwell time\n",
    "skip_cold = False  # skip the cold dwell for the thermal problem\n",
    "\n",
    "l_cycle = default_cycle.copy()\n",
    "l_cycle[1] = t_heatdwell\n",
    "l_cycle[3] = t_cooldwell\n",
    "\n",
    "time_division =  [0.25, 0.25, 0.25, 0.25]\n",
    "\n",
    "time_steps = l_cycle.copy() * time_division\n",
    "\n",
    "load = get_loadfunc(T_load, l_cycle)\n",
    "\n",
    "n_cycles = 10\n",
    "\n",
    "# t_fine = l_cycle[:3].sum() + l_cycle[2]\n",
    "period, _, t_output = create_time_points(n_cycles, l_cycle, output_division=2.0)\n",
    "t_list = get_time_list_alt(l_cycle, time_steps, n_cycles, skip_cold=skip_cold)"
   ]
  },
  {
   "cell_type": "code",
   "execution_count": null,
   "id": "68ac8d6d",
   "metadata": {},
   "outputs": [],
   "source": [
    "mesh = mesh\n",
    "properties = props\n",
    "load = T_load\n",
    "omega = omega\n",
    "t_list = t_list\n",
    "period = period\n",
    "t_output = t_output"
   ]
  },
  {
   "cell_type": "code",
   "execution_count": null,
   "id": "9b50c399",
   "metadata": {},
   "outputs": [],
   "source": [
    "# material properties\n",
    "rho, cp, kappa, E, sig0, nu, alpha_V = properties\n",
    "lmbda = E * nu / (1 + nu) / (1 - 2 * nu)\n",
    "mu = E / 2.0 / (1 + nu)\n",
    "Et = E / 1e5  # tangent modulus - any better method for perfect plasticity?\n",
    "H = E * Et / (E - Et)  # hardening modulus\n"
   ]
  }
 ],
 "metadata": {
  "kernelspec": {
   "display_name": "fenics_legacy",
   "language": "python",
   "name": "python3"
  },
  "language_info": {
   "codemirror_mode": {
    "name": "ipython",
    "version": 3
   },
   "file_extension": ".py",
   "mimetype": "text/x-python",
   "name": "python",
   "nbconvert_exporter": "python",
   "pygments_lexer": "ipython3",
   "version": "3.13.7"
  }
 },
 "nbformat": 4,
 "nbformat_minor": 5
}
